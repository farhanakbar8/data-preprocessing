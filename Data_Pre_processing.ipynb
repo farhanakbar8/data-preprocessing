{
  "nbformat": 4,
  "nbformat_minor": 0,
  "metadata": {
    "colab": {
      "name": "Data Pre-processing.ipynb",
      "provenance": [],
      "include_colab_link": true
    },
    "kernelspec": {
      "name": "python3",
      "display_name": "Python 3"
    },
    "language_info": {
      "name": "python"
    }
  },
  "cells": [
    {
      "cell_type": "markdown",
      "metadata": {
        "id": "view-in-github",
        "colab_type": "text"
      },
      "source": [
        "<a href=\"https://colab.research.google.com/github/farhanakbar8/data-preprocessing/blob/main/Data_Pre_processing.ipynb\" target=\"_parent\"><img src=\"https://colab.research.google.com/assets/colab-badge.svg\" alt=\"Open In Colab\"/></a>"
      ]
    },
    {
      "cell_type": "markdown",
      "metadata": {
        "id": "tmyOOb0gCuo-"
      },
      "source": [
        "#Pre-processing Task\n",
        "Investigate any data quality issues of the chosen data set and then decide the data pre-processing approaches to address the issues. Explore the data set by summarising the data using statistics and identify any data quality issues. There is no limitation on the number of summaries to be reported. Still, it would be sensible only to include summaries related to the data quality issues that will be addressed and demonstrated for this assignment. You have a range of data pre-processing approaches available. You only need to choose some of those to be implemented – the first should be a broad discussion within your team to help you identify the data quality issues. Following the results, the data pre-processing techniques/ methods will be discussed and then decide which techniques/ methods are suitable and will be demonstrated.\n",
        "\n",
        "To demonstrate the data pre-processing techniques, you can choose one of the following tools: Weka, R, or Python. Load the data set into the tool you have chosen and start playing around with the data and then summarising the data. Make yourself familiar with the data and the tool’s functions (Weka) or libraries/ packages (R/ Python)."
      ]
    },
    {
      "cell_type": "markdown",
      "metadata": {
        "id": "Na7oF7SID_aj"
      },
      "source": [
        "#Import libraries"
      ]
    },
    {
      "cell_type": "code",
      "metadata": {
        "id": "Xyx_HYCwzoYS"
      },
      "source": [
        "import pandas as pd\n",
        "import matplotlib.pyplot as plt\n",
        "import numpy as np\n",
        "from datetime import datetime\n",
        "import seaborn as sns"
      ],
      "execution_count": null,
      "outputs": []
    },
    {
      "cell_type": "markdown",
      "metadata": {
        "id": "AlesOqBpEHjO"
      },
      "source": [
        "#Import Dataset"
      ]
    },
    {
      "cell_type": "code",
      "metadata": {
        "colab": {
          "base_uri": "https://localhost:8080/",
          "height": 203
        },
        "id": "71S3JHmS3YhN",
        "outputId": "fbb20714-0334-4f0e-9c5c-eeef20597471"
      },
      "source": [
        "data = pd.read_csv('https://github.com/farhanakbar8/data-preprocessing/blob/main/dataset.csv?raw=true')\n",
        "data.head()"
      ],
      "execution_count": null,
      "outputs": [
        {
          "output_type": "execute_result",
          "data": {
            "text/html": [
              "<div>\n",
              "<style scoped>\n",
              "    .dataframe tbody tr th:only-of-type {\n",
              "        vertical-align: middle;\n",
              "    }\n",
              "\n",
              "    .dataframe tbody tr th {\n",
              "        vertical-align: top;\n",
              "    }\n",
              "\n",
              "    .dataframe thead th {\n",
              "        text-align: right;\n",
              "    }\n",
              "</style>\n",
              "<table border=\"1\" class=\"dataframe\">\n",
              "  <thead>\n",
              "    <tr style=\"text-align: right;\">\n",
              "      <th></th>\n",
              "      <th>SystemCodeNumber</th>\n",
              "      <th>Capacity</th>\n",
              "      <th>Occupancy</th>\n",
              "      <th>LastUpdated</th>\n",
              "    </tr>\n",
              "  </thead>\n",
              "  <tbody>\n",
              "    <tr>\n",
              "      <th>0</th>\n",
              "      <td>BHMBCCMKT01</td>\n",
              "      <td>577</td>\n",
              "      <td>61</td>\n",
              "      <td>2016-10-04 07:59:42</td>\n",
              "    </tr>\n",
              "    <tr>\n",
              "      <th>1</th>\n",
              "      <td>BHMBCCMKT01</td>\n",
              "      <td>577</td>\n",
              "      <td>64</td>\n",
              "      <td>2016-10-04 08:25:42</td>\n",
              "    </tr>\n",
              "    <tr>\n",
              "      <th>2</th>\n",
              "      <td>BHMBCCMKT01</td>\n",
              "      <td>577</td>\n",
              "      <td>80</td>\n",
              "      <td>2016-10-04 08:59:42</td>\n",
              "    </tr>\n",
              "    <tr>\n",
              "      <th>3</th>\n",
              "      <td>BHMBCCMKT01</td>\n",
              "      <td>577</td>\n",
              "      <td>107</td>\n",
              "      <td>2016-10-04 09:32:46</td>\n",
              "    </tr>\n",
              "    <tr>\n",
              "      <th>4</th>\n",
              "      <td>BHMBCCMKT01</td>\n",
              "      <td>577</td>\n",
              "      <td>150</td>\n",
              "      <td>2016-10-04 09:59:48</td>\n",
              "    </tr>\n",
              "  </tbody>\n",
              "</table>\n",
              "</div>"
            ],
            "text/plain": [
              "  SystemCodeNumber  Capacity  Occupancy          LastUpdated\n",
              "0      BHMBCCMKT01       577         61  2016-10-04 07:59:42\n",
              "1      BHMBCCMKT01       577         64  2016-10-04 08:25:42\n",
              "2      BHMBCCMKT01       577         80  2016-10-04 08:59:42\n",
              "3      BHMBCCMKT01       577        107  2016-10-04 09:32:46\n",
              "4      BHMBCCMKT01       577        150  2016-10-04 09:59:48"
            ]
          },
          "metadata": {
            "tags": []
          },
          "execution_count": 2
        }
      ]
    },
    {
      "cell_type": "code",
      "metadata": {
        "colab": {
          "base_uri": "https://localhost:8080/"
        },
        "id": "SYrp-E6j3ay_",
        "outputId": "0ed347ee-5f98-4b66-dd3c-afc8ad2f6135"
      },
      "source": [
        "print(f'There are {data.shape[0]} objects and {data.shape[1]} attributes')"
      ],
      "execution_count": null,
      "outputs": [
        {
          "output_type": "stream",
          "text": [
            "There are 35717 objects and 4 attributes\n"
          ],
          "name": "stdout"
        }
      ]
    },
    {
      "cell_type": "markdown",
      "metadata": {
        "id": "TuTFRRJ4Ebzw"
      },
      "source": [
        "#Check duplicate and missing values"
      ]
    },
    {
      "cell_type": "code",
      "metadata": {
        "colab": {
          "base_uri": "https://localhost:8080/"
        },
        "id": "bLgPPf2lSDHP",
        "outputId": "79905caf-fc88-451b-c2e6-89818b8684ad"
      },
      "source": [
        "dup = data.duplicated()\n",
        "print(f'Number of duplicate rows = {dup.sum()}')\n",
        "data = data.drop_duplicates()"
      ],
      "execution_count": null,
      "outputs": [
        {
          "output_type": "stream",
          "text": [
            "Number of duplicate rows = 216\n"
          ],
          "name": "stdout"
        }
      ]
    },
    {
      "cell_type": "code",
      "metadata": {
        "colab": {
          "base_uri": "https://localhost:8080/"
        },
        "id": "5DQZwzZJvQNO",
        "outputId": "506ea2a7-2193-4f9c-a065-5d2768b37d83"
      },
      "source": [
        "print(f'Missing Values')\n",
        "for i in data.columns:\n",
        "    print(f'{i} : {data[i].isna().sum()}')"
      ],
      "execution_count": null,
      "outputs": [
        {
          "output_type": "stream",
          "text": [
            "Missing Values\n",
            "SystemCodeNumber : 0\n",
            "Capacity : 0\n",
            "Occupancy : 0\n",
            "LastUpdated : 0\n"
          ],
          "name": "stdout"
        }
      ]
    },
    {
      "cell_type": "code",
      "metadata": {
        "colab": {
          "base_uri": "https://localhost:8080/"
        },
        "id": "v55XePyNScjZ",
        "outputId": "8d10ef26-1c09-44ce-a81a-0b7eef2a2083"
      },
      "source": [
        "print(f'There are {data.shape[0]} objects and {data.shape[1]} attributes')"
      ],
      "execution_count": null,
      "outputs": [
        {
          "output_type": "stream",
          "text": [
            "There are 35501 objects and 4 attributes\n"
          ],
          "name": "stdout"
        }
      ]
    },
    {
      "cell_type": "markdown",
      "metadata": {
        "id": "7Gw3I1jeKRSU"
      },
      "source": [
        "#Check frequency and percentage of an attribute value"
      ]
    },
    {
      "cell_type": "code",
      "metadata": {
        "colab": {
          "base_uri": "https://localhost:8080/"
        },
        "id": "Omw2YTY1FexI",
        "outputId": "c5c9e915-f804-47f0-d0bd-e5061aaf48d8"
      },
      "source": [
        "data['SystemCodeNumber'].value_counts()"
      ],
      "execution_count": null,
      "outputs": [
        {
          "output_type": "execute_result",
          "data": {
            "text/plain": [
              "Others-CCCPS119a    1307\n",
              "Others-CCCPS105a    1307\n",
              "Others-CCCPS135a    1307\n",
              "Others-CCCPS8       1307\n",
              "BHMBCCTHL01         1307\n",
              "BHMBCCMKT01         1307\n",
              "Others-CCCPS98      1307\n",
              "Shopping            1307\n",
              "BHMMBMMBX01         1307\n",
              "Others-CCCPS202     1307\n",
              "Broad Street        1306\n",
              "BHMEURBRD01         1306\n",
              "BHMNCPHST01         1301\n",
              "BHMNCPNST01         1299\n",
              "BHMBCCSNH01         1289\n",
              "Others-CCCPS133     1289\n",
              "BHMNCPLDH01         1281\n",
              "BHMBCCPST01         1271\n",
              "BHMEURBRD02         1270\n",
              "BHMNCPPLS01         1253\n",
              "NIA Car Parks       1199\n",
              "NIA South           1199\n",
              "BHMBRCBRG03         1180\n",
              "BHMBRCBRG02         1180\n",
              "Bull Ring           1180\n",
              "BHMBRCBRG01         1179\n",
              "BHMNCPRAN01         1174\n",
              "BHMNCPNHS01         1028\n",
              "NIA North            159\n",
              "BHMBRTARC01           88\n",
              "Name: SystemCodeNumber, dtype: int64"
            ]
          },
          "metadata": {
            "tags": []
          },
          "execution_count": 7
        }
      ]
    },
    {
      "cell_type": "code",
      "metadata": {
        "colab": {
          "base_uri": "https://localhost:8080/"
        },
        "id": "li0UGrfJGWwO",
        "outputId": "ae55cfb0-1e65-4dfb-a301-fcf56d05d640"
      },
      "source": [
        "data['Capacity'].value_counts()"
      ],
      "execution_count": null,
      "outputs": [
        {
          "output_type": "execute_result",
          "data": {
            "text/plain": [
              "3103    1307\n",
              "1920    1307\n",
              "577     1307\n",
              "2009    1307\n",
              "2937    1307\n",
              "387     1307\n",
              "1322    1307\n",
              "3883    1307\n",
              "2803    1307\n",
              "687     1307\n",
              "470     1306\n",
              "690     1306\n",
              "1200    1301\n",
              "485     1299\n",
              "4675    1289\n",
              "863     1289\n",
              "720     1281\n",
              "317     1271\n",
              "220     1270\n",
              "450     1253\n",
              "788     1199\n",
              "1268    1199\n",
              "849     1180\n",
              "3053    1180\n",
              "1194    1180\n",
              "1010    1179\n",
              "600     1174\n",
              "500     1028\n",
              "480      159\n",
              "496       88\n",
              "Name: Capacity, dtype: int64"
            ]
          },
          "metadata": {
            "tags": []
          },
          "execution_count": 8
        }
      ]
    },
    {
      "cell_type": "code",
      "metadata": {
        "colab": {
          "base_uri": "https://localhost:8080/"
        },
        "id": "QZdI8hh0Gcuj",
        "outputId": "dd0d4438-a47a-412b-b0e2-6e2558496588"
      },
      "source": [
        "data['Occupancy'].value_counts()"
      ],
      "execution_count": null,
      "outputs": [
        {
          "output_type": "execute_result",
          "data": {
            "text/plain": [
              "402     92\n",
              "345     86\n",
              "170     73\n",
              "219     73\n",
              "206     73\n",
              "        ..\n",
              "2767     1\n",
              "2927     1\n",
              "2991     1\n",
              "3247     1\n",
              "1967     1\n",
              "Name: Occupancy, Length: 3013, dtype: int64"
            ]
          },
          "metadata": {
            "tags": []
          },
          "execution_count": 9
        }
      ]
    },
    {
      "cell_type": "code",
      "metadata": {
        "colab": {
          "base_uri": "https://localhost:8080/"
        },
        "id": "zqw7B0mrHhxm",
        "outputId": "4f421c84-b53b-4907-8668-814f17f04594"
      },
      "source": [
        "print(data['SystemCodeNumber'].value_counts()/data['SystemCodeNumber'].count()*100)"
      ],
      "execution_count": null,
      "outputs": [
        {
          "output_type": "stream",
          "text": [
            "Others-CCCPS119a    3.681586\n",
            "Others-CCCPS105a    3.681586\n",
            "Others-CCCPS135a    3.681586\n",
            "Others-CCCPS8       3.681586\n",
            "BHMBCCTHL01         3.681586\n",
            "BHMBCCMKT01         3.681586\n",
            "Others-CCCPS98      3.681586\n",
            "Shopping            3.681586\n",
            "BHMMBMMBX01         3.681586\n",
            "Others-CCCPS202     3.681586\n",
            "Broad Street        3.678770\n",
            "BHMEURBRD01         3.678770\n",
            "BHMNCPHST01         3.664686\n",
            "BHMNCPNST01         3.659052\n",
            "BHMBCCSNH01         3.630884\n",
            "Others-CCCPS133     3.630884\n",
            "BHMNCPLDH01         3.608349\n",
            "BHMBCCPST01         3.580181\n",
            "BHMEURBRD02         3.577364\n",
            "BHMNCPPLS01         3.529478\n",
            "NIA Car Parks       3.377370\n",
            "NIA South           3.377370\n",
            "BHMBRCBRG03         3.323850\n",
            "BHMBRCBRG02         3.323850\n",
            "Bull Ring           3.323850\n",
            "BHMBRCBRG01         3.321033\n",
            "BHMNCPRAN01         3.306949\n",
            "BHMNCPNHS01         2.895693\n",
            "NIA North           0.447875\n",
            "BHMBRTARC01         0.247880\n",
            "Name: SystemCodeNumber, dtype: float64\n"
          ],
          "name": "stdout"
        }
      ]
    },
    {
      "cell_type": "code",
      "metadata": {
        "colab": {
          "base_uri": "https://localhost:8080/"
        },
        "id": "_qPjqcvRHv5o",
        "outputId": "8409749b-3160-418c-84cc-32a42585591e"
      },
      "source": [
        "print(data['Capacity'].value_counts()/data['Capacity'].count()*100)"
      ],
      "execution_count": null,
      "outputs": [
        {
          "output_type": "stream",
          "text": [
            "3103    3.681586\n",
            "1920    3.681586\n",
            "577     3.681586\n",
            "2009    3.681586\n",
            "2937    3.681586\n",
            "387     3.681586\n",
            "1322    3.681586\n",
            "3883    3.681586\n",
            "2803    3.681586\n",
            "687     3.681586\n",
            "470     3.678770\n",
            "690     3.678770\n",
            "1200    3.664686\n",
            "485     3.659052\n",
            "4675    3.630884\n",
            "863     3.630884\n",
            "720     3.608349\n",
            "317     3.580181\n",
            "220     3.577364\n",
            "450     3.529478\n",
            "788     3.377370\n",
            "1268    3.377370\n",
            "849     3.323850\n",
            "3053    3.323850\n",
            "1194    3.323850\n",
            "1010    3.321033\n",
            "600     3.306949\n",
            "500     2.895693\n",
            "480     0.447875\n",
            "496     0.247880\n",
            "Name: Capacity, dtype: float64\n"
          ],
          "name": "stdout"
        }
      ]
    },
    {
      "cell_type": "code",
      "metadata": {
        "colab": {
          "base_uri": "https://localhost:8080/"
        },
        "id": "Q-4OCudbH4TT",
        "outputId": "21ab538d-43e8-4861-a931-9f686cf95468"
      },
      "source": [
        "print(data['Occupancy'].value_counts()/data['Occupancy'].count()*100)"
      ],
      "execution_count": null,
      "outputs": [
        {
          "output_type": "stream",
          "text": [
            "402     0.259148\n",
            "345     0.242247\n",
            "170     0.205628\n",
            "219     0.205628\n",
            "206     0.205628\n",
            "          ...   \n",
            "2767    0.002817\n",
            "2927    0.002817\n",
            "2991    0.002817\n",
            "3247    0.002817\n",
            "1967    0.002817\n",
            "Name: Occupancy, Length: 3013, dtype: float64\n"
          ],
          "name": "stdout"
        }
      ]
    },
    {
      "cell_type": "markdown",
      "metadata": {
        "id": "6ZdxzIn1LOD5"
      },
      "source": [
        "#Some plots for the data"
      ]
    },
    {
      "cell_type": "code",
      "metadata": {
        "colab": {
          "base_uri": "https://localhost:8080/"
        },
        "id": "hT6ytUoX36dP",
        "outputId": "386c4508-5080-4cd3-dd5c-51eaa539e7f0"
      },
      "source": [
        "plt.hist(data['Capacity'])\n",
        "plt.title('Histogram of Capacity attribute')\n",
        "plt.show()"
      ],
      "execution_count": null,
      "outputs": [
        {
          "output_type": "display_data",
          "data": {
            "image/png": "[encoded data removed]",
            "text/plain": [
              "<Figure size 432x288 with 1 Axes>"
            ]
          },
          "metadata": {
            "tags": [],
            "needs_background": "light"
          }
        }
      ]
    },
    {
      "cell_type": "code",
      "metadata": {
        "colab": {
          "base_uri": "https://localhost:8080/"
        },
        "id": "QF3c7vkd4hrA",
        "outputId": "84840452-0188-434c-cb60-ff5e1c0b76c9"
      },
      "source": [
        "plt.hist(data['Occupancy'])\n",
        "plt.title('Histogram of Occupancy attribute')\n",
        "plt.show()"
      ],
      "execution_count": null,
      "outputs": [
        {
          "output_type": "display_data",
          "data": {
            "image/png": "[encoded data removed]",
            "text/plain": [
              "<Figure size 432x288 with 1 Axes>"
            ]
          },
          "metadata": {
            "tags": [],
            "needs_background": "light"
          }
        }
      ]
    },
    {
      "cell_type": "code",
      "metadata": {
        "colab": {
          "base_uri": "https://localhost:8080/"
        },
        "id": "gGo2VwvD5HU4",
        "outputId": "7010ee8d-ed42-4432-9794-d21da864d75f"
      },
      "source": [
        "plt.boxplot(data['Capacity'])\n",
        "plt.title('Boxplot of Capacity attribute')\n",
        "plt.show()"
      ],
      "execution_count": null,
      "outputs": [
        {
          "output_type": "display_data",
          "data": {
            "image/png": "[encoded data removed]",
            "text/plain": [
              "<Figure size 432x288 with 1 Axes>"
            ]
          },
          "metadata": {
            "tags": [],
            "needs_background": "light"
          }
        }
      ]
    },
    {
      "cell_type": "code",
      "metadata": {
        "colab": {
          "base_uri": "https://localhost:8080/"
        },
        "id": "G1FZ3rLM5W8g",
        "outputId": "140f7e17-6282-43de-deb6-135b105893ff"
      },
      "source": [
        "plt.boxplot(data['Occupancy'])\n",
        "plt.title('Boxplot of Occupancy attribute')\n",
        "plt.show()"
      ],
      "execution_count": null,
      "outputs": [
        {
          "output_type": "display_data",
          "data": {
            "image/png": "[encoded data removed]",
            "text/plain": [
              "<Figure size 432x288 with 1 Axes>"
            ]
          },
          "metadata": {
            "tags": [],
            "needs_background": "light"
          }
        }
      ]
    },
    {
      "cell_type": "markdown",
      "metadata": {
        "id": "ifIaELssL3FG"
      },
      "source": [
        "#Statistical description"
      ]
    },
    {
      "cell_type": "code",
      "metadata": {
        "colab": {
          "base_uri": "https://localhost:8080/"
        },
        "id": "wKQqtrAh4y47",
        "outputId": "ea1767e3-86ec-44cd-ace2-d353e3f7d876"
      },
      "source": [
        "data.describe()"
      ],
      "execution_count": null,
      "outputs": [
        {
          "output_type": "execute_result",
          "data": {
            "text/html": [
              "<div>\n",
              "<style scoped>\n",
              "    .dataframe tbody tr th:only-of-type {\n",
              "        vertical-align: middle;\n",
              "    }\n",
              "\n",
              "    .dataframe tbody tr th {\n",
              "        vertical-align: top;\n",
              "    }\n",
              "\n",
              "    .dataframe thead th {\n",
              "        text-align: right;\n",
              "    }\n",
              "</style>\n",
              "<table border=\"1\" class=\"dataframe\">\n",
              "  <thead>\n",
              "    <tr style=\"text-align: right;\">\n",
              "      <th></th>\n",
              "      <th>Capacity</th>\n",
              "      <th>Occupancy</th>\n",
              "    </tr>\n",
              "  </thead>\n",
              "  <tbody>\n",
              "    <tr>\n",
              "      <th>count</th>\n",
              "      <td>35501.000000</td>\n",
              "      <td>35501.000000</td>\n",
              "    </tr>\n",
              "    <tr>\n",
              "      <th>mean</th>\n",
              "      <td>1399.242613</td>\n",
              "      <td>644.853582</td>\n",
              "    </tr>\n",
              "    <tr>\n",
              "      <th>std</th>\n",
              "      <td>1179.939451</td>\n",
              "      <td>657.822376</td>\n",
              "    </tr>\n",
              "    <tr>\n",
              "      <th>min</th>\n",
              "      <td>220.000000</td>\n",
              "      <td>-8.000000</td>\n",
              "    </tr>\n",
              "    <tr>\n",
              "      <th>25%</th>\n",
              "      <td>500.000000</td>\n",
              "      <td>212.000000</td>\n",
              "    </tr>\n",
              "    <tr>\n",
              "      <th>50%</th>\n",
              "      <td>863.000000</td>\n",
              "      <td>448.000000</td>\n",
              "    </tr>\n",
              "    <tr>\n",
              "      <th>75%</th>\n",
              "      <td>2009.000000</td>\n",
              "      <td>802.000000</td>\n",
              "    </tr>\n",
              "    <tr>\n",
              "      <th>max</th>\n",
              "      <td>4675.000000</td>\n",
              "      <td>4327.000000</td>\n",
              "    </tr>\n",
              "  </tbody>\n",
              "</table>\n",
              "</div>"
            ],
            "text/plain": [
              "           Capacity     Occupancy\n",
              "count  35501.000000  35501.000000\n",
              "mean    1399.242613    644.853582\n",
              "std     1179.939451    657.822376\n",
              "min      220.000000     -8.000000\n",
              "25%      500.000000    212.000000\n",
              "50%      863.000000    448.000000\n",
              "75%     2009.000000    802.000000\n",
              "max     4675.000000   4327.000000"
            ]
          },
          "metadata": {
            "tags": []
          },
          "execution_count": 17
        }
      ]
    },
    {
      "cell_type": "markdown",
      "metadata": {
        "id": "UhCrPmikLSGY"
      },
      "source": [
        "#Noisy values"
      ]
    },
    {
      "cell_type": "code",
      "metadata": {
        "colab": {
          "base_uri": "https://localhost:8080/"
        },
        "id": "ffjRn6jK_g2_",
        "outputId": "f1ca1886-ebdb-44ef-f9cf-01cb2d46defd"
      },
      "source": [
        "data[data['Occupancy'] < 0]"
      ],
      "execution_count": null,
      "outputs": [
        {
          "output_type": "execute_result",
          "data": {
            "text/html": [
              "<div>\n",
              "<style scoped>\n",
              "    .dataframe tbody tr th:only-of-type {\n",
              "        vertical-align: middle;\n",
              "    }\n",
              "\n",
              "    .dataframe tbody tr th {\n",
              "        vertical-align: top;\n",
              "    }\n",
              "\n",
              "    .dataframe thead th {\n",
              "        text-align: right;\n",
              "    }\n",
              "</style>\n",
              "<table border=\"1\" class=\"dataframe\">\n",
              "  <thead>\n",
              "    <tr style=\"text-align: right;\">\n",
              "      <th></th>\n",
              "      <th>SystemCodeNumber</th>\n",
              "      <th>Capacity</th>\n",
              "      <th>Occupancy</th>\n",
              "      <th>LastUpdated</th>\n",
              "    </tr>\n",
              "  </thead>\n",
              "  <tbody>\n",
              "    <tr>\n",
              "      <th>23889</th>\n",
              "      <td>NIA North</td>\n",
              "      <td>480</td>\n",
              "      <td>-3</td>\n",
              "      <td>2016-10-16 15:57:16</td>\n",
              "    </tr>\n",
              "    <tr>\n",
              "      <th>23890</th>\n",
              "      <td>NIA North</td>\n",
              "      <td>480</td>\n",
              "      <td>-3</td>\n",
              "      <td>2016-10-16 16:31:17</td>\n",
              "    </tr>\n",
              "    <tr>\n",
              "      <th>23906</th>\n",
              "      <td>NIA North</td>\n",
              "      <td>480</td>\n",
              "      <td>-1</td>\n",
              "      <td>2016-10-18 15:27:59</td>\n",
              "    </tr>\n",
              "    <tr>\n",
              "      <th>23919</th>\n",
              "      <td>NIA North</td>\n",
              "      <td>480</td>\n",
              "      <td>-8</td>\n",
              "      <td>2016-10-28 13:02:43</td>\n",
              "    </tr>\n",
              "    <tr>\n",
              "      <th>23924</th>\n",
              "      <td>NIA North</td>\n",
              "      <td>480</td>\n",
              "      <td>-1</td>\n",
              "      <td>2016-10-28 15:29:41</td>\n",
              "    </tr>\n",
              "    <tr>\n",
              "      <th>23925</th>\n",
              "      <td>NIA North</td>\n",
              "      <td>480</td>\n",
              "      <td>-4</td>\n",
              "      <td>2016-10-28 16:02:40</td>\n",
              "    </tr>\n",
              "    <tr>\n",
              "      <th>23926</th>\n",
              "      <td>NIA North</td>\n",
              "      <td>480</td>\n",
              "      <td>-1</td>\n",
              "      <td>2016-10-28 16:29:42</td>\n",
              "    </tr>\n",
              "    <tr>\n",
              "      <th>23937</th>\n",
              "      <td>NIA North</td>\n",
              "      <td>480</td>\n",
              "      <td>-2</td>\n",
              "      <td>2016-10-29 12:59:51</td>\n",
              "    </tr>\n",
              "    <tr>\n",
              "      <th>23944</th>\n",
              "      <td>NIA North</td>\n",
              "      <td>480</td>\n",
              "      <td>-1</td>\n",
              "      <td>2016-10-29 16:26:53</td>\n",
              "    </tr>\n",
              "    <tr>\n",
              "      <th>23997</th>\n",
              "      <td>NIA North</td>\n",
              "      <td>480</td>\n",
              "      <td>-3</td>\n",
              "      <td>2016-11-10 16:00:15</td>\n",
              "    </tr>\n",
              "    <tr>\n",
              "      <th>24032</th>\n",
              "      <td>NIA North</td>\n",
              "      <td>480</td>\n",
              "      <td>-1</td>\n",
              "      <td>2016-11-30 15:28:40</td>\n",
              "    </tr>\n",
              "    <tr>\n",
              "      <th>24033</th>\n",
              "      <td>NIA North</td>\n",
              "      <td>480</td>\n",
              "      <td>-2</td>\n",
              "      <td>2016-11-30 16:01:39</td>\n",
              "    </tr>\n",
              "  </tbody>\n",
              "</table>\n",
              "</div>"
            ],
            "text/plain": [
              "      SystemCodeNumber  Capacity  Occupancy          LastUpdated\n",
              "23889        NIA North       480         -3  2016-10-16 15:57:16\n",
              "23890        NIA North       480         -3  2016-10-16 16:31:17\n",
              "23906        NIA North       480         -1  2016-10-18 15:27:59\n",
              "23919        NIA North       480         -8  2016-10-28 13:02:43\n",
              "23924        NIA North       480         -1  2016-10-28 15:29:41\n",
              "23925        NIA North       480         -4  2016-10-28 16:02:40\n",
              "23926        NIA North       480         -1  2016-10-28 16:29:42\n",
              "23937        NIA North       480         -2  2016-10-29 12:59:51\n",
              "23944        NIA North       480         -1  2016-10-29 16:26:53\n",
              "23997        NIA North       480         -3  2016-11-10 16:00:15\n",
              "24032        NIA North       480         -1  2016-11-30 15:28:40\n",
              "24033        NIA North       480         -2  2016-11-30 16:01:39"
            ]
          },
          "metadata": {
            "tags": []
          },
          "execution_count": 18
        }
      ]
    },
    {
      "cell_type": "code",
      "metadata": {
        "colab": {
          "base_uri": "https://localhost:8080/"
        },
        "id": "4TXb79rJ7q4H",
        "outputId": "0408c25c-3740-4090-a1c7-72994c5352af"
      },
      "source": [
        "data[data['Occupancy'] > data['Capacity']]"
      ],
      "execution_count": null,
      "outputs": [
        {
          "output_type": "execute_result",
          "data": {
            "text/html": [
              "<div>\n",
              "<style scoped>\n",
              "    .dataframe tbody tr th:only-of-type {\n",
              "        vertical-align: middle;\n",
              "    }\n",
              "\n",
              "    .dataframe tbody tr th {\n",
              "        vertical-align: top;\n",
              "    }\n",
              "\n",
              "    .dataframe thead th {\n",
              "        text-align: right;\n",
              "    }\n",
              "</style>\n",
              "<table border=\"1\" class=\"dataframe\">\n",
              "  <thead>\n",
              "    <tr style=\"text-align: right;\">\n",
              "      <th></th>\n",
              "      <th>SystemCodeNumber</th>\n",
              "      <th>Capacity</th>\n",
              "      <th>Occupancy</th>\n",
              "      <th>LastUpdated</th>\n",
              "    </tr>\n",
              "  </thead>\n",
              "  <tbody>\n",
              "    <tr>\n",
              "      <th>1396</th>\n",
              "      <td>BHMBCCPST01</td>\n",
              "      <td>317</td>\n",
              "      <td>320</td>\n",
              "      <td>2016-10-08 14:03:38</td>\n",
              "    </tr>\n",
              "    <tr>\n",
              "      <th>1613</th>\n",
              "      <td>BHMBCCPST01</td>\n",
              "      <td>317</td>\n",
              "      <td>318</td>\n",
              "      <td>2016-10-22 14:39:47</td>\n",
              "    </tr>\n",
              "    <tr>\n",
              "      <th>3548</th>\n",
              "      <td>BHMBCCSNH01</td>\n",
              "      <td>863</td>\n",
              "      <td>865</td>\n",
              "      <td>2016-11-28 11:01:30</td>\n",
              "    </tr>\n",
              "    <tr>\n",
              "      <th>3549</th>\n",
              "      <td>BHMBCCSNH01</td>\n",
              "      <td>863</td>\n",
              "      <td>866</td>\n",
              "      <td>2016-11-28 11:32:28</td>\n",
              "    </tr>\n",
              "    <tr>\n",
              "      <th>3583</th>\n",
              "      <td>BHMBCCSNH01</td>\n",
              "      <td>863</td>\n",
              "      <td>864</td>\n",
              "      <td>2016-11-30 10:28:38</td>\n",
              "    </tr>\n",
              "    <tr>\n",
              "      <th>...</th>\n",
              "      <td>...</td>\n",
              "      <td>...</td>\n",
              "      <td>...</td>\n",
              "      <td>...</td>\n",
              "    </tr>\n",
              "    <tr>\n",
              "      <th>7542</th>\n",
              "      <td>BHMBRCBRG02</td>\n",
              "      <td>1194</td>\n",
              "      <td>1198</td>\n",
              "      <td>2016-12-18 14:03:26</td>\n",
              "    </tr>\n",
              "    <tr>\n",
              "      <th>12732</th>\n",
              "      <td>BHMMBMMBX01</td>\n",
              "      <td>687</td>\n",
              "      <td>688</td>\n",
              "      <td>2016-12-19 13:03:30</td>\n",
              "    </tr>\n",
              "    <tr>\n",
              "      <th>14796</th>\n",
              "      <td>BHMNCPLDH01</td>\n",
              "      <td>720</td>\n",
              "      <td>723</td>\n",
              "      <td>2016-11-16 11:00:51</td>\n",
              "    </tr>\n",
              "    <tr>\n",
              "      <th>15350</th>\n",
              "      <td>BHMNCPNHS01</td>\n",
              "      <td>500</td>\n",
              "      <td>501</td>\n",
              "      <td>2016-10-04 10:26:49</td>\n",
              "    </tr>\n",
              "    <tr>\n",
              "      <th>15768</th>\n",
              "      <td>BHMNCPNHS01</td>\n",
              "      <td>500</td>\n",
              "      <td>503</td>\n",
              "      <td>2016-11-08 13:00:00</td>\n",
              "    </tr>\n",
              "  </tbody>\n",
              "</table>\n",
              "<p>373 rows × 4 columns</p>\n",
              "</div>"
            ],
            "text/plain": [
              "      SystemCodeNumber  Capacity  Occupancy          LastUpdated\n",
              "1396       BHMBCCPST01       317        320  2016-10-08 14:03:38\n",
              "1613       BHMBCCPST01       317        318  2016-10-22 14:39:47\n",
              "3548       BHMBCCSNH01       863        865  2016-11-28 11:01:30\n",
              "3549       BHMBCCSNH01       863        866  2016-11-28 11:32:28\n",
              "3583       BHMBCCSNH01       863        864  2016-11-30 10:28:38\n",
              "...                ...       ...        ...                  ...\n",
              "7542       BHMBRCBRG02      1194       1198  2016-12-18 14:03:26\n",
              "12732      BHMMBMMBX01       687        688  2016-12-19 13:03:30\n",
              "14796      BHMNCPLDH01       720        723  2016-11-16 11:00:51\n",
              "15350      BHMNCPNHS01       500        501  2016-10-04 10:26:49\n",
              "15768      BHMNCPNHS01       500        503  2016-11-08 13:00:00\n",
              "\n",
              "[373 rows x 4 columns]"
            ]
          },
          "metadata": {
            "tags": []
          },
          "execution_count": 19
        }
      ]
    },
    {
      "cell_type": "code",
      "metadata": {
        "colab": {
          "base_uri": "https://localhost:8080/"
        },
        "id": "Rj0BBkuU58Eq",
        "outputId": "f2751a97-9327-42c0-d476-83f988265b15"
      },
      "source": [
        "noisy_occupancy = data[data['Occupancy'] < 0].index\n",
        "print(noisy_occupancy)"
      ],
      "execution_count": null,
      "outputs": [
        {
          "output_type": "stream",
          "text": [
            "Int64Index([23889, 23890, 23906, 23919, 23924, 23925, 23926, 23937, 23944,\n",
            "            23997, 24032, 24033],\n",
            "           dtype='int64')\n"
          ],
          "name": "stdout"
        }
      ]
    },
    {
      "cell_type": "code",
      "metadata": {
        "colab": {
          "base_uri": "https://localhost:8080/"
        },
        "id": "K49jr81w8Rw-",
        "outputId": "30510658-28e9-4521-a8ba-bdaac0da8ce5"
      },
      "source": [
        "new_data = data.drop(noisy_occupancy)\n",
        "print(f'Data after dropping noisy values = {new_data.shape[0]}')"
      ],
      "execution_count": null,
      "outputs": [
        {
          "output_type": "stream",
          "text": [
            "Data after dropping noisy values = 35489\n"
          ],
          "name": "stdout"
        }
      ]
    },
    {
      "cell_type": "code",
      "metadata": {
        "colab": {
          "base_uri": "https://localhost:8080/"
        },
        "id": "Oyf0XKhs9p3S",
        "outputId": "abd6460d-d070-43a3-8bbe-b80dbe242b6f"
      },
      "source": [
        "display(new_data[new_data['Occupancy'] < 0])\n",
        "print('There are no more noisy values')"
      ],
      "execution_count": null,
      "outputs": [
        {
          "output_type": "display_data",
          "data": {
            "text/html": [
              "<div>\n",
              "<style scoped>\n",
              "    .dataframe tbody tr th:only-of-type {\n",
              "        vertical-align: middle;\n",
              "    }\n",
              "\n",
              "    .dataframe tbody tr th {\n",
              "        vertical-align: top;\n",
              "    }\n",
              "\n",
              "    .dataframe thead th {\n",
              "        text-align: right;\n",
              "    }\n",
              "</style>\n",
              "<table border=\"1\" class=\"dataframe\">\n",
              "  <thead>\n",
              "    <tr style=\"text-align: right;\">\n",
              "      <th></th>\n",
              "      <th>SystemCodeNumber</th>\n",
              "      <th>Capacity</th>\n",
              "      <th>Occupancy</th>\n",
              "      <th>LastUpdated</th>\n",
              "    </tr>\n",
              "  </thead>\n",
              "  <tbody>\n",
              "  </tbody>\n",
              "</table>\n",
              "</div>"
            ],
            "text/plain": [
              "Empty DataFrame\n",
              "Columns: [SystemCodeNumber, Capacity, Occupancy, LastUpdated]\n",
              "Index: []"
            ]
          },
          "metadata": {
            "tags": []
          }
        },
        {
          "output_type": "stream",
          "text": [
            "There are no more noisy values\n"
          ],
          "name": "stdout"
        }
      ]
    },
    {
      "cell_type": "markdown",
      "metadata": {
        "id": "jq6Hu_sOMA9K"
      },
      "source": [
        "#Split \"LastUpdated\" column to \"Date\" and \"Time\" columns"
      ]
    },
    {
      "cell_type": "code",
      "metadata": {
        "colab": {
          "base_uri": "https://localhost:8080/",
          "height": 417
        },
        "id": "Jo8zHCBWONY-",
        "outputId": "1fe3a084-19c2-43fc-8e35-64a1691d5710"
      },
      "source": [
        "new_data[['Date', 'Time']] = new_data['LastUpdated'].str.split(\" \", 1, expand = True)\n",
        "new_data = new_data.drop(columns = ['LastUpdated'])\n",
        "new_data"
      ],
      "execution_count": null,
      "outputs": [
        {
          "output_type": "execute_result",
          "data": {
            "text/html": [
              "<div>\n",
              "<style scoped>\n",
              "    .dataframe tbody tr th:only-of-type {\n",
              "        vertical-align: middle;\n",
              "    }\n",
              "\n",
              "    .dataframe tbody tr th {\n",
              "        vertical-align: top;\n",
              "    }\n",
              "\n",
              "    .dataframe thead th {\n",
              "        text-align: right;\n",
              "    }\n",
              "</style>\n",
              "<table border=\"1\" class=\"dataframe\">\n",
              "  <thead>\n",
              "    <tr style=\"text-align: right;\">\n",
              "      <th></th>\n",
              "      <th>SystemCodeNumber</th>\n",
              "      <th>Capacity</th>\n",
              "      <th>Occupancy</th>\n",
              "      <th>Date</th>\n",
              "      <th>Time</th>\n",
              "    </tr>\n",
              "  </thead>\n",
              "  <tbody>\n",
              "    <tr>\n",
              "      <th>0</th>\n",
              "      <td>BHMBCCMKT01</td>\n",
              "      <td>577</td>\n",
              "      <td>61</td>\n",
              "      <td>2016-10-04</td>\n",
              "      <td>07:59:42</td>\n",
              "    </tr>\n",
              "    <tr>\n",
              "      <th>1</th>\n",
              "      <td>BHMBCCMKT01</td>\n",
              "      <td>577</td>\n",
              "      <td>64</td>\n",
              "      <td>2016-10-04</td>\n",
              "      <td>08:25:42</td>\n",
              "    </tr>\n",
              "    <tr>\n",
              "      <th>2</th>\n",
              "      <td>BHMBCCMKT01</td>\n",
              "      <td>577</td>\n",
              "      <td>80</td>\n",
              "      <td>2016-10-04</td>\n",
              "      <td>08:59:42</td>\n",
              "    </tr>\n",
              "    <tr>\n",
              "      <th>3</th>\n",
              "      <td>BHMBCCMKT01</td>\n",
              "      <td>577</td>\n",
              "      <td>107</td>\n",
              "      <td>2016-10-04</td>\n",
              "      <td>09:32:46</td>\n",
              "    </tr>\n",
              "    <tr>\n",
              "      <th>4</th>\n",
              "      <td>BHMBCCMKT01</td>\n",
              "      <td>577</td>\n",
              "      <td>150</td>\n",
              "      <td>2016-10-04</td>\n",
              "      <td>09:59:48</td>\n",
              "    </tr>\n",
              "    <tr>\n",
              "      <th>...</th>\n",
              "      <td>...</td>\n",
              "      <td>...</td>\n",
              "      <td>...</td>\n",
              "      <td>...</td>\n",
              "      <td>...</td>\n",
              "    </tr>\n",
              "    <tr>\n",
              "      <th>35712</th>\n",
              "      <td>Shopping</td>\n",
              "      <td>1920</td>\n",
              "      <td>1517</td>\n",
              "      <td>2016-12-19</td>\n",
              "      <td>14:30:33</td>\n",
              "    </tr>\n",
              "    <tr>\n",
              "      <th>35713</th>\n",
              "      <td>Shopping</td>\n",
              "      <td>1920</td>\n",
              "      <td>1487</td>\n",
              "      <td>2016-12-19</td>\n",
              "      <td>15:03:34</td>\n",
              "    </tr>\n",
              "    <tr>\n",
              "      <th>35714</th>\n",
              "      <td>Shopping</td>\n",
              "      <td>1920</td>\n",
              "      <td>1432</td>\n",
              "      <td>2016-12-19</td>\n",
              "      <td>15:29:33</td>\n",
              "    </tr>\n",
              "    <tr>\n",
              "      <th>35715</th>\n",
              "      <td>Shopping</td>\n",
              "      <td>1920</td>\n",
              "      <td>1321</td>\n",
              "      <td>2016-12-19</td>\n",
              "      <td>16:03:35</td>\n",
              "    </tr>\n",
              "    <tr>\n",
              "      <th>35716</th>\n",
              "      <td>Shopping</td>\n",
              "      <td>1920</td>\n",
              "      <td>1180</td>\n",
              "      <td>2016-12-19</td>\n",
              "      <td>16:30:35</td>\n",
              "    </tr>\n",
              "  </tbody>\n",
              "</table>\n",
              "<p>35489 rows × 5 columns</p>\n",
              "</div>"
            ],
            "text/plain": [
              "      SystemCodeNumber  Capacity  Occupancy        Date      Time\n",
              "0          BHMBCCMKT01       577         61  2016-10-04  07:59:42\n",
              "1          BHMBCCMKT01       577         64  2016-10-04  08:25:42\n",
              "2          BHMBCCMKT01       577         80  2016-10-04  08:59:42\n",
              "3          BHMBCCMKT01       577        107  2016-10-04  09:32:46\n",
              "4          BHMBCCMKT01       577        150  2016-10-04  09:59:48\n",
              "...                ...       ...        ...         ...       ...\n",
              "35712         Shopping      1920       1517  2016-12-19  14:30:33\n",
              "35713         Shopping      1920       1487  2016-12-19  15:03:34\n",
              "35714         Shopping      1920       1432  2016-12-19  15:29:33\n",
              "35715         Shopping      1920       1321  2016-12-19  16:03:35\n",
              "35716         Shopping      1920       1180  2016-12-19  16:30:35\n",
              "\n",
              "[35489 rows x 5 columns]"
            ]
          },
          "metadata": {
            "tags": []
          },
          "execution_count": 23
        }
      ]
    },
    {
      "cell_type": "markdown",
      "metadata": {
        "id": "0Y2E0BS_NrN4"
      },
      "source": [
        "#Converting date into day and month"
      ]
    },
    {
      "cell_type": "code",
      "metadata": {
        "id": "gN4KDDLcxDjd"
      },
      "source": [
        "new_data['Date'] = pd.to_datetime(new_data['Date'])\n",
        "\n",
        "new_data['Day'] = new_data['Date'].dt.day_name()\n",
        "new_data['Month'] = new_data['Date'].dt.month_name()"
      ],
      "execution_count": null,
      "outputs": []
    },
    {
      "cell_type": "code",
      "metadata": {
        "colab": {
          "base_uri": "https://localhost:8080/"
        },
        "id": "D9dOM3P01VE0",
        "outputId": "affe4426-af08-461f-eecc-5a3437af6056"
      },
      "source": [
        "new_data"
      ],
      "execution_count": null,
      "outputs": [
        {
          "output_type": "execute_result",
          "data": {
            "text/html": [
              "<div>\n",
              "<style scoped>\n",
              "    .dataframe tbody tr th:only-of-type {\n",
              "        vertical-align: middle;\n",
              "    }\n",
              "\n",
              "    .dataframe tbody tr th {\n",
              "        vertical-align: top;\n",
              "    }\n",
              "\n",
              "    .dataframe thead th {\n",
              "        text-align: right;\n",
              "    }\n",
              "</style>\n",
              "<table border=\"1\" class=\"dataframe\">\n",
              "  <thead>\n",
              "    <tr style=\"text-align: right;\">\n",
              "      <th></th>\n",
              "      <th>SystemCodeNumber</th>\n",
              "      <th>Capacity</th>\n",
              "      <th>Occupancy</th>\n",
              "      <th>Date</th>\n",
              "      <th>Time</th>\n",
              "      <th>Day</th>\n",
              "      <th>Month</th>\n",
              "    </tr>\n",
              "  </thead>\n",
              "  <tbody>\n",
              "    <tr>\n",
              "      <th>0</th>\n",
              "      <td>BHMBCCMKT01</td>\n",
              "      <td>577</td>\n",
              "      <td>61</td>\n",
              "      <td>2016-10-04</td>\n",
              "      <td>07:59:42</td>\n",
              "      <td>Tuesday</td>\n",
              "      <td>October</td>\n",
              "    </tr>\n",
              "    <tr>\n",
              "      <th>1</th>\n",
              "      <td>BHMBCCMKT01</td>\n",
              "      <td>577</td>\n",
              "      <td>64</td>\n",
              "      <td>2016-10-04</td>\n",
              "      <td>08:25:42</td>\n",
              "      <td>Tuesday</td>\n",
              "      <td>October</td>\n",
              "    </tr>\n",
              "    <tr>\n",
              "      <th>2</th>\n",
              "      <td>BHMBCCMKT01</td>\n",
              "      <td>577</td>\n",
              "      <td>80</td>\n",
              "      <td>2016-10-04</td>\n",
              "      <td>08:59:42</td>\n",
              "      <td>Tuesday</td>\n",
              "      <td>October</td>\n",
              "    </tr>\n",
              "    <tr>\n",
              "      <th>3</th>\n",
              "      <td>BHMBCCMKT01</td>\n",
              "      <td>577</td>\n",
              "      <td>107</td>\n",
              "      <td>2016-10-04</td>\n",
              "      <td>09:32:46</td>\n",
              "      <td>Tuesday</td>\n",
              "      <td>October</td>\n",
              "    </tr>\n",
              "    <tr>\n",
              "      <th>4</th>\n",
              "      <td>BHMBCCMKT01</td>\n",
              "      <td>577</td>\n",
              "      <td>150</td>\n",
              "      <td>2016-10-04</td>\n",
              "      <td>09:59:48</td>\n",
              "      <td>Tuesday</td>\n",
              "      <td>October</td>\n",
              "    </tr>\n",
              "    <tr>\n",
              "      <th>...</th>\n",
              "      <td>...</td>\n",
              "      <td>...</td>\n",
              "      <td>...</td>\n",
              "      <td>...</td>\n",
              "      <td>...</td>\n",
              "      <td>...</td>\n",
              "      <td>...</td>\n",
              "    </tr>\n",
              "    <tr>\n",
              "      <th>35712</th>\n",
              "      <td>Shopping</td>\n",
              "      <td>1920</td>\n",
              "      <td>1517</td>\n",
              "      <td>2016-12-19</td>\n",
              "      <td>14:30:33</td>\n",
              "      <td>Monday</td>\n",
              "      <td>December</td>\n",
              "    </tr>\n",
              "    <tr>\n",
              "      <th>35713</th>\n",
              "      <td>Shopping</td>\n",
              "      <td>1920</td>\n",
              "      <td>1487</td>\n",
              "      <td>2016-12-19</td>\n",
              "      <td>15:03:34</td>\n",
              "      <td>Monday</td>\n",
              "      <td>December</td>\n",
              "    </tr>\n",
              "    <tr>\n",
              "      <th>35714</th>\n",
              "      <td>Shopping</td>\n",
              "      <td>1920</td>\n",
              "      <td>1432</td>\n",
              "      <td>2016-12-19</td>\n",
              "      <td>15:29:33</td>\n",
              "      <td>Monday</td>\n",
              "      <td>December</td>\n",
              "    </tr>\n",
              "    <tr>\n",
              "      <th>35715</th>\n",
              "      <td>Shopping</td>\n",
              "      <td>1920</td>\n",
              "      <td>1321</td>\n",
              "      <td>2016-12-19</td>\n",
              "      <td>16:03:35</td>\n",
              "      <td>Monday</td>\n",
              "      <td>December</td>\n",
              "    </tr>\n",
              "    <tr>\n",
              "      <th>35716</th>\n",
              "      <td>Shopping</td>\n",
              "      <td>1920</td>\n",
              "      <td>1180</td>\n",
              "      <td>2016-12-19</td>\n",
              "      <td>16:30:35</td>\n",
              "      <td>Monday</td>\n",
              "      <td>December</td>\n",
              "    </tr>\n",
              "  </tbody>\n",
              "</table>\n",
              "<p>35489 rows × 7 columns</p>\n",
              "</div>"
            ],
            "text/plain": [
              "      SystemCodeNumber  Capacity  Occupancy  ...      Time      Day     Month\n",
              "0          BHMBCCMKT01       577         61  ...  07:59:42  Tuesday   October\n",
              "1          BHMBCCMKT01       577         64  ...  08:25:42  Tuesday   October\n",
              "2          BHMBCCMKT01       577         80  ...  08:59:42  Tuesday   October\n",
              "3          BHMBCCMKT01       577        107  ...  09:32:46  Tuesday   October\n",
              "4          BHMBCCMKT01       577        150  ...  09:59:48  Tuesday   October\n",
              "...                ...       ...        ...  ...       ...      ...       ...\n",
              "35712         Shopping      1920       1517  ...  14:30:33   Monday  December\n",
              "35713         Shopping      1920       1487  ...  15:03:34   Monday  December\n",
              "35714         Shopping      1920       1432  ...  15:29:33   Monday  December\n",
              "35715         Shopping      1920       1321  ...  16:03:35   Monday  December\n",
              "35716         Shopping      1920       1180  ...  16:30:35   Monday  December\n",
              "\n",
              "[35489 rows x 7 columns]"
            ]
          },
          "metadata": {
            "tags": []
          },
          "execution_count": 25
        }
      ]
    },
    {
      "cell_type": "markdown",
      "metadata": {
        "id": "MyQXweq2N4k1"
      },
      "source": [
        "#Drop \"Date\" column"
      ]
    },
    {
      "cell_type": "code",
      "metadata": {
        "id": "x8kavX1jCFA5"
      },
      "source": [
        "new_data = new_data.drop(['Date'], axis = 1)"
      ],
      "execution_count": null,
      "outputs": []
    },
    {
      "cell_type": "code",
      "metadata": {
        "colab": {
          "base_uri": "https://localhost:8080/"
        },
        "id": "qfPHVOE1_zjw",
        "outputId": "f4a112d0-6ad4-4086-8a10-88ac88d7cca9"
      },
      "source": [
        "new_data"
      ],
      "execution_count": null,
      "outputs": [
        {
          "output_type": "execute_result",
          "data": {
            "text/html": [
              "<div>\n",
              "<style scoped>\n",
              "    .dataframe tbody tr th:only-of-type {\n",
              "        vertical-align: middle;\n",
              "    }\n",
              "\n",
              "    .dataframe tbody tr th {\n",
              "        vertical-align: top;\n",
              "    }\n",
              "\n",
              "    .dataframe thead th {\n",
              "        text-align: right;\n",
              "    }\n",
              "</style>\n",
              "<table border=\"1\" class=\"dataframe\">\n",
              "  <thead>\n",
              "    <tr style=\"text-align: right;\">\n",
              "      <th></th>\n",
              "      <th>SystemCodeNumber</th>\n",
              "      <th>Capacity</th>\n",
              "      <th>Occupancy</th>\n",
              "      <th>Time</th>\n",
              "      <th>Day</th>\n",
              "      <th>Month</th>\n",
              "    </tr>\n",
              "  </thead>\n",
              "  <tbody>\n",
              "    <tr>\n",
              "      <th>0</th>\n",
              "      <td>BHMBCCMKT01</td>\n",
              "      <td>577</td>\n",
              "      <td>61</td>\n",
              "      <td>07:59:42</td>\n",
              "      <td>Tuesday</td>\n",
              "      <td>October</td>\n",
              "    </tr>\n",
              "    <tr>\n",
              "      <th>1</th>\n",
              "      <td>BHMBCCMKT01</td>\n",
              "      <td>577</td>\n",
              "      <td>64</td>\n",
              "      <td>08:25:42</td>\n",
              "      <td>Tuesday</td>\n",
              "      <td>October</td>\n",
              "    </tr>\n",
              "    <tr>\n",
              "      <th>2</th>\n",
              "      <td>BHMBCCMKT01</td>\n",
              "      <td>577</td>\n",
              "      <td>80</td>\n",
              "      <td>08:59:42</td>\n",
              "      <td>Tuesday</td>\n",
              "      <td>October</td>\n",
              "    </tr>\n",
              "    <tr>\n",
              "      <th>3</th>\n",
              "      <td>BHMBCCMKT01</td>\n",
              "      <td>577</td>\n",
              "      <td>107</td>\n",
              "      <td>09:32:46</td>\n",
              "      <td>Tuesday</td>\n",
              "      <td>October</td>\n",
              "    </tr>\n",
              "    <tr>\n",
              "      <th>4</th>\n",
              "      <td>BHMBCCMKT01</td>\n",
              "      <td>577</td>\n",
              "      <td>150</td>\n",
              "      <td>09:59:48</td>\n",
              "      <td>Tuesday</td>\n",
              "      <td>October</td>\n",
              "    </tr>\n",
              "    <tr>\n",
              "      <th>...</th>\n",
              "      <td>...</td>\n",
              "      <td>...</td>\n",
              "      <td>...</td>\n",
              "      <td>...</td>\n",
              "      <td>...</td>\n",
              "      <td>...</td>\n",
              "    </tr>\n",
              "    <tr>\n",
              "      <th>35712</th>\n",
              "      <td>Shopping</td>\n",
              "      <td>1920</td>\n",
              "      <td>1517</td>\n",
              "      <td>14:30:33</td>\n",
              "      <td>Monday</td>\n",
              "      <td>December</td>\n",
              "    </tr>\n",
              "    <tr>\n",
              "      <th>35713</th>\n",
              "      <td>Shopping</td>\n",
              "      <td>1920</td>\n",
              "      <td>1487</td>\n",
              "      <td>15:03:34</td>\n",
              "      <td>Monday</td>\n",
              "      <td>December</td>\n",
              "    </tr>\n",
              "    <tr>\n",
              "      <th>35714</th>\n",
              "      <td>Shopping</td>\n",
              "      <td>1920</td>\n",
              "      <td>1432</td>\n",
              "      <td>15:29:33</td>\n",
              "      <td>Monday</td>\n",
              "      <td>December</td>\n",
              "    </tr>\n",
              "    <tr>\n",
              "      <th>35715</th>\n",
              "      <td>Shopping</td>\n",
              "      <td>1920</td>\n",
              "      <td>1321</td>\n",
              "      <td>16:03:35</td>\n",
              "      <td>Monday</td>\n",
              "      <td>December</td>\n",
              "    </tr>\n",
              "    <tr>\n",
              "      <th>35716</th>\n",
              "      <td>Shopping</td>\n",
              "      <td>1920</td>\n",
              "      <td>1180</td>\n",
              "      <td>16:30:35</td>\n",
              "      <td>Monday</td>\n",
              "      <td>December</td>\n",
              "    </tr>\n",
              "  </tbody>\n",
              "</table>\n",
              "<p>35489 rows × 6 columns</p>\n",
              "</div>"
            ],
            "text/plain": [
              "      SystemCodeNumber  Capacity  Occupancy      Time      Day     Month\n",
              "0          BHMBCCMKT01       577         61  07:59:42  Tuesday   October\n",
              "1          BHMBCCMKT01       577         64  08:25:42  Tuesday   October\n",
              "2          BHMBCCMKT01       577         80  08:59:42  Tuesday   October\n",
              "3          BHMBCCMKT01       577        107  09:32:46  Tuesday   October\n",
              "4          BHMBCCMKT01       577        150  09:59:48  Tuesday   October\n",
              "...                ...       ...        ...       ...      ...       ...\n",
              "35712         Shopping      1920       1517  14:30:33   Monday  December\n",
              "35713         Shopping      1920       1487  15:03:34   Monday  December\n",
              "35714         Shopping      1920       1432  15:29:33   Monday  December\n",
              "35715         Shopping      1920       1321  16:03:35   Monday  December\n",
              "35716         Shopping      1920       1180  16:30:35   Monday  December\n",
              "\n",
              "[35489 rows x 6 columns]"
            ]
          },
          "metadata": {
            "tags": []
          },
          "execution_count": 27
        }
      ]
    },
    {
      "cell_type": "markdown",
      "metadata": {
        "id": "QW5ifSxqS_kJ"
      },
      "source": [
        "#Show some plots of pre-processed data"
      ]
    },
    {
      "cell_type": "code",
      "metadata": {
        "colab": {
          "base_uri": "https://localhost:8080/",
          "height": 404
        },
        "id": "hudd-Pac1iSi",
        "outputId": "16be74f5-b2cd-43b8-9492-6a1d2f71d7bf"
      },
      "source": [
        "ax = sns.catplot(x=\"Day\", kind=\"count\", data=new_data, aspect=3)\n",
        "ax.fig.suptitle('Day Distribution')"
      ],
      "execution_count": null,
      "outputs": [
        {
          "output_type": "execute_result",
          "data": {
            "text/plain": [
              "Text(0.5, 0.98, 'Day Distribution')"
            ]
          },
          "metadata": {
            "tags": []
          },
          "execution_count": 28
        },
        {
          "output_type": "display_data",
          "data": {
            "image/png": "[encoded data removed]",
            "text/plain": [
              "<Figure size 1080x360 with 1 Axes>"
            ]
          },
          "metadata": {
            "tags": [],
            "needs_background": "light"
          }
        }
      ]
    },
    {
      "cell_type": "code",
      "metadata": {
        "colab": {
          "base_uri": "https://localhost:8080/",
          "height": 417
        },
        "id": "Bn3JmWtYSPVH",
        "outputId": "434d2cb0-d986-4a30-ad93-f295330093e1"
      },
      "source": [
        "new_data[new_data['Day'] == 'Sunday']"
      ],
      "execution_count": null,
      "outputs": [
        {
          "output_type": "execute_result",
          "data": {
            "text/html": [
              "<div>\n",
              "<style scoped>\n",
              "    .dataframe tbody tr th:only-of-type {\n",
              "        vertical-align: middle;\n",
              "    }\n",
              "\n",
              "    .dataframe tbody tr th {\n",
              "        vertical-align: top;\n",
              "    }\n",
              "\n",
              "    .dataframe thead th {\n",
              "        text-align: right;\n",
              "    }\n",
              "</style>\n",
              "<table border=\"1\" class=\"dataframe\">\n",
              "  <thead>\n",
              "    <tr style=\"text-align: right;\">\n",
              "      <th></th>\n",
              "      <th>SystemCodeNumber</th>\n",
              "      <th>Capacity</th>\n",
              "      <th>Occupancy</th>\n",
              "      <th>Time</th>\n",
              "      <th>Day</th>\n",
              "      <th>Month</th>\n",
              "    </tr>\n",
              "  </thead>\n",
              "  <tbody>\n",
              "    <tr>\n",
              "      <th>90</th>\n",
              "      <td>BHMBCCMKT01</td>\n",
              "      <td>577</td>\n",
              "      <td>42</td>\n",
              "      <td>08:04:40</td>\n",
              "      <td>Sunday</td>\n",
              "      <td>October</td>\n",
              "    </tr>\n",
              "    <tr>\n",
              "      <th>91</th>\n",
              "      <td>BHMBCCMKT01</td>\n",
              "      <td>577</td>\n",
              "      <td>42</td>\n",
              "      <td>08:30:45</td>\n",
              "      <td>Sunday</td>\n",
              "      <td>October</td>\n",
              "    </tr>\n",
              "    <tr>\n",
              "      <th>92</th>\n",
              "      <td>BHMBCCMKT01</td>\n",
              "      <td>577</td>\n",
              "      <td>43</td>\n",
              "      <td>09:04:46</td>\n",
              "      <td>Sunday</td>\n",
              "      <td>October</td>\n",
              "    </tr>\n",
              "    <tr>\n",
              "      <th>93</th>\n",
              "      <td>BHMBCCMKT01</td>\n",
              "      <td>577</td>\n",
              "      <td>43</td>\n",
              "      <td>09:30:45</td>\n",
              "      <td>Sunday</td>\n",
              "      <td>October</td>\n",
              "    </tr>\n",
              "    <tr>\n",
              "      <th>94</th>\n",
              "      <td>BHMBCCMKT01</td>\n",
              "      <td>577</td>\n",
              "      <td>50</td>\n",
              "      <td>09:57:41</td>\n",
              "      <td>Sunday</td>\n",
              "      <td>October</td>\n",
              "    </tr>\n",
              "    <tr>\n",
              "      <th>...</th>\n",
              "      <td>...</td>\n",
              "      <td>...</td>\n",
              "      <td>...</td>\n",
              "      <td>...</td>\n",
              "      <td>...</td>\n",
              "      <td>...</td>\n",
              "    </tr>\n",
              "    <tr>\n",
              "      <th>35694</th>\n",
              "      <td>Shopping</td>\n",
              "      <td>1920</td>\n",
              "      <td>975</td>\n",
              "      <td>14:30:27</td>\n",
              "      <td>Sunday</td>\n",
              "      <td>December</td>\n",
              "    </tr>\n",
              "    <tr>\n",
              "      <th>35695</th>\n",
              "      <td>Shopping</td>\n",
              "      <td>1920</td>\n",
              "      <td>978</td>\n",
              "      <td>14:56:25</td>\n",
              "      <td>Sunday</td>\n",
              "      <td>December</td>\n",
              "    </tr>\n",
              "    <tr>\n",
              "      <th>35696</th>\n",
              "      <td>Shopping</td>\n",
              "      <td>1920</td>\n",
              "      <td>907</td>\n",
              "      <td>15:30:24</td>\n",
              "      <td>Sunday</td>\n",
              "      <td>December</td>\n",
              "    </tr>\n",
              "    <tr>\n",
              "      <th>35697</th>\n",
              "      <td>Shopping</td>\n",
              "      <td>1920</td>\n",
              "      <td>817</td>\n",
              "      <td>16:03:27</td>\n",
              "      <td>Sunday</td>\n",
              "      <td>December</td>\n",
              "    </tr>\n",
              "    <tr>\n",
              "      <th>35698</th>\n",
              "      <td>Shopping</td>\n",
              "      <td>1920</td>\n",
              "      <td>726</td>\n",
              "      <td>16:30:25</td>\n",
              "      <td>Sunday</td>\n",
              "      <td>December</td>\n",
              "    </tr>\n",
              "  </tbody>\n",
              "</table>\n",
              "<p>4676 rows × 6 columns</p>\n",
              "</div>"
            ],
            "text/plain": [
              "      SystemCodeNumber  Capacity  Occupancy      Time     Day     Month\n",
              "90         BHMBCCMKT01       577         42  08:04:40  Sunday   October\n",
              "91         BHMBCCMKT01       577         42  08:30:45  Sunday   October\n",
              "92         BHMBCCMKT01       577         43  09:04:46  Sunday   October\n",
              "93         BHMBCCMKT01       577         43  09:30:45  Sunday   October\n",
              "94         BHMBCCMKT01       577         50  09:57:41  Sunday   October\n",
              "...                ...       ...        ...       ...     ...       ...\n",
              "35694         Shopping      1920        975  14:30:27  Sunday  December\n",
              "35695         Shopping      1920        978  14:56:25  Sunday  December\n",
              "35696         Shopping      1920        907  15:30:24  Sunday  December\n",
              "35697         Shopping      1920        817  16:03:27  Sunday  December\n",
              "35698         Shopping      1920        726  16:30:25  Sunday  December\n",
              "\n",
              "[4676 rows x 6 columns]"
            ]
          },
          "metadata": {
            "tags": []
          },
          "execution_count": 29
        }
      ]
    },
    {
      "cell_type": "code",
      "metadata": {
        "colab": {
          "base_uri": "https://localhost:8080/",
          "height": 404
        },
        "id": "ZgZyQFld8329",
        "outputId": "86331577-c431-4a47-8c8c-885fdba33fe8"
      },
      "source": [
        "ax = sns.catplot(x=\"Month\", kind=\"count\", data=new_data, aspect=1)\n",
        "ax.fig.suptitle('Month Distribution')"
      ],
      "execution_count": null,
      "outputs": [
        {
          "output_type": "execute_result",
          "data": {
            "text/plain": [
              "Text(0.5, 0.98, 'Month Distribution')"
            ]
          },
          "metadata": {
            "tags": []
          },
          "execution_count": 30
        },
        {
          "output_type": "display_data",
          "data": {
            "image/png": "[encoded data removed]",
            "text/plain": [
              "<Figure size 360x360 with 1 Axes>"
            ]
          },
          "metadata": {
            "tags": [],
            "needs_background": "light"
          }
        }
      ]
    },
    {
      "cell_type": "code",
      "metadata": {
        "id": "qYtQnX0bBywu",
        "colab": {
          "base_uri": "https://localhost:8080/",
          "height": 295
        },
        "outputId": "9612d7bf-b425-4b8e-e5cb-03caa79a8054"
      },
      "source": [
        "new_data.describe()"
      ],
      "execution_count": null,
      "outputs": [
        {
          "output_type": "execute_result",
          "data": {
            "text/html": [
              "<div>\n",
              "<style scoped>\n",
              "    .dataframe tbody tr th:only-of-type {\n",
              "        vertical-align: middle;\n",
              "    }\n",
              "\n",
              "    .dataframe tbody tr th {\n",
              "        vertical-align: top;\n",
              "    }\n",
              "\n",
              "    .dataframe thead th {\n",
              "        text-align: right;\n",
              "    }\n",
              "</style>\n",
              "<table border=\"1\" class=\"dataframe\">\n",
              "  <thead>\n",
              "    <tr style=\"text-align: right;\">\n",
              "      <th></th>\n",
              "      <th>Capacity</th>\n",
              "      <th>Occupancy</th>\n",
              "    </tr>\n",
              "  </thead>\n",
              "  <tbody>\n",
              "    <tr>\n",
              "      <th>count</th>\n",
              "      <td>35489.000000</td>\n",
              "      <td>35489.000000</td>\n",
              "    </tr>\n",
              "    <tr>\n",
              "      <th>mean</th>\n",
              "      <td>1399.553439</td>\n",
              "      <td>645.072473</td>\n",
              "    </tr>\n",
              "    <tr>\n",
              "      <th>std</th>\n",
              "      <td>1180.017822</td>\n",
              "      <td>657.825850</td>\n",
              "    </tr>\n",
              "    <tr>\n",
              "      <th>min</th>\n",
              "      <td>220.000000</td>\n",
              "      <td>0.000000</td>\n",
              "    </tr>\n",
              "    <tr>\n",
              "      <th>25%</th>\n",
              "      <td>500.000000</td>\n",
              "      <td>212.000000</td>\n",
              "    </tr>\n",
              "    <tr>\n",
              "      <th>50%</th>\n",
              "      <td>863.000000</td>\n",
              "      <td>448.000000</td>\n",
              "    </tr>\n",
              "    <tr>\n",
              "      <th>75%</th>\n",
              "      <td>2009.000000</td>\n",
              "      <td>802.000000</td>\n",
              "    </tr>\n",
              "    <tr>\n",
              "      <th>max</th>\n",
              "      <td>4675.000000</td>\n",
              "      <td>4327.000000</td>\n",
              "    </tr>\n",
              "  </tbody>\n",
              "</table>\n",
              "</div>"
            ],
            "text/plain": [
              "           Capacity     Occupancy\n",
              "count  35489.000000  35489.000000\n",
              "mean    1399.553439    645.072473\n",
              "std     1180.017822    657.825850\n",
              "min      220.000000      0.000000\n",
              "25%      500.000000    212.000000\n",
              "50%      863.000000    448.000000\n",
              "75%     2009.000000    802.000000\n",
              "max     4675.000000   4327.000000"
            ]
          },
          "metadata": {
            "tags": []
          },
          "execution_count": 31
        }
      ]
    },
    {
      "cell_type": "code",
      "metadata": {
        "id": "tZ1a_xfOUSVj"
      },
      "source": [
        ""
      ],
      "execution_count": null,
      "outputs": []
    }
  ]
}